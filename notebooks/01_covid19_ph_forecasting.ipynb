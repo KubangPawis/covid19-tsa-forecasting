{
 "cells": [
  {
   "cell_type": "markdown",
   "id": "50eebee1-49c7-4deb-b453-79555117d177",
   "metadata": {},
   "source": [
    "<h1 style=\"text-align: center; font-size: 2.5rem; font-weight: bold; margin: 2.5rem 0 1rem;\">Weekly COVID‑19 Case Projections for the Philippines</h1>\n",
    "<h2 style=\"text-align: center; font-size: 1rem; font-weight: 500; margin: 0 0 2rem;\">Time Series Analysis and Forecasting</h2>\n",
    "\n",
    "<br>\n",
    "\n",
    "____\n",
    "\n",
    "\n",
    "\n",
    "<h2 style=\"text-align: center; font-size: 1rem; margin: 2rem 0 1rem 0;\">Section I</h2>\n",
    "<h1 style=\"text-align: center; font-size: 2rem; margin: 0 0 2rem 0;\">Project Summary</h1>\n",
    "\n",
    "This project aims to develop and compare different short‑term forecasting models for Philippine COVID‑19 confirmed‑case counts, aimed at helping public‑health planners anticipate resource needs in a weekly frequency.\n",
    "\n",
    "<h2>Data</h2>\n",
    "\n",
    "<div style=\"margin: 0 0 0 2rem;\">\n",
    "    \n",
    "The data used for this time series forecasting project was the Novel Coronavirus 2019 dataset from Kaggle. The data was expertly gathered by the World Health Organization (WHO), containing global COVID-19 data in the data range of January 22, 2020 to May 29, 2021.\n",
    "\n",
    "https://www.kaggle.com/datasets/sudalairajkumar/novel-corona-virus-2019-dataset\n",
    "</div>\n",
    "\n",
    "|      Column     |   DataType  |               Description              |\n",
    "|---------------  | ----------- | -------------------------------------- |\n",
    "|SNo              |    int64    | Serial Number                          |\n",
    "|ObservationDate  |  string     | Observation date in mm/dd/yyyy         |\n",
    "|Province/State   |  string     | Province or State                      |\n",
    "|Country/Region   |  string     | Country or region                      |\n",
    "|LastUpdate       |  string     | Last update date time in UTC           |\n",
    "|Confirmed        |  float64    | Cumulative number of confirmed cases   |\n",
    "|Deaths           |  float64    | Cumulative number of deaths cases      |\n",
    "|Recovered        |  float64    | Cumulative number of recovered cases   |\n",
    "\n",
    "<h2>Objective</h2>\n",
    "\n",
    "<div style=\"margin: 0 0 0 2rem;\">\n",
    "Produce accurate 30‑day forecasts of weekly confirmed PH COVID-19 cases to inform bed‑capacity planning, PPE procurement, and public‑communication timing. Specifically, three different forecasting models were used in the project implementation, namely: ARIMA, SARIMA, and Prophet.\n",
    "</div>\n",
    "\n",
    "<h2>Methodology</h2>\n",
    "\n",
    "<div style=\"margin: 0 0 0 2rem;\">\n",
    "    \n",
    "Using the Kaggle “Novel Coronavirus 2019” dataset (daily cumulative counts from 22 Jan 2020 to 31 May 2021), we:\n",
    "1.  Resampled the data to weekly totals (week‑ending Sunday) and applied a log1p transformation for variance stabilization.\n",
    "2.  Verified trend non‑stationarity via the Augmented Dickey–Fuller test and removed it with a first‑order difference.\n",
    "3.  Uncovered a strong 7‑day reporting cycle through STL decomposition, motivating seasonal modeling.\n",
    "4.  Trained and compared three model variations.\n",
    "5.  Evaluated each model on the final 30‑day hold‑out window (May 2021). The **SARIMA model** achieved the lowest MAE (≈ 2.25 M) and RMSE (≈ 2.48 M), outperforming Prophet by ~40 % and the non‑seasonal ARIMA by > 99 %.\n",
    "\n",
    "</div>\n",
    "\n",
    "<br>\n",
    "\n",
    "|Model| Hyperparameters | Description |\n",
    "|-----|---------------- |------------- |\n",
    "|ARIMA|   (1,0,1)     | baseline, no explicit seasonality (datapoints were already differenced before model initialization) |\n",
    "|SARIMA|   (1,1,1) (1,1,1,7)     | adds weekly seasonal differencing |\n",
    "|Prophet|   -     | with weekly seasonality and automatic changepoints |\n",
    "\n",
    "<br>\n",
    "\n",
    "<h2>Exploratory Data Analysis (EDA)</h2>\n",
    "\n",
    "\n",
    "1. **Initial Inspection**\n",
    "\n",
    "<div style=\"margin: 0 0 0 2rem;\">\n",
    "The raw Kaggle dataset contains daily cumulative counts of Confirmed, Deaths, and Recovered cases for every reporting country. After filtering Country/Region == \"Philippines\", weekly (downsampled) observations were obtained that spanned from 22 Jan 2020 – 31 May 2021. A simple line plot immediately revealed the expected S‑shaped epidemic curve: a long flat tail through February 2020, an accelerating rise beginning March 2020, and several steeper waves in mid‑2020 and early 2021.\n",
    "</div>\n",
    "\n",
    "2. **Seasonal‑Trend Decomposition (STL)**\n",
    "\n",
    "<div style=\"margin: 0 0 0 2rem;\">\n",
    "Applying STL with period = 7 (weekly) to the time series showed three clear components:\n",
    "\n",
    "* Trend: a steadily increasing trend as time passed.\n",
    "* Seasonality:  a repeating weekly pattern—cases on Sundays and rebound mid‑week—consistent across the entire period (consistent increase -> decrease patterns).\n",
    "* Residuals: short‑lived spikes corresponding to reporting back‑logs or data corrections.\n",
    "\n",
    "The analysis of the trend and seasonality of the original PH COVID-19 time-series data likely indicated **nonstationarity**!\n",
    "\n",
    "</div>\n",
    "\n",
    "3. **Stationarity Check**\n",
    "\n",
    "<div style=\"margin: 0 0 0 2rem;\">\n",
    "Augmented Dickey–Fuller on the logged level series returned p = 0.74 → non‑stationary. After performing log transformation and first‑order differencing on the data, the ADF p‑value dropped to 0.04, satisfying the stationarity requirement for the planned models.\n",
    "</div>\n",
    "    \n",
    "<br>\n",
    "\n",
    "<h2>Modeling Summary</h2>\n",
    "\n",
    "<div style=\"margin: 0 0 0 2rem;\">\n",
    "The table below reports absolute forecasting error over the 30‑day hold‑out window (four weekly observations). Metrics are expressed in raw case counts (not percentages) so the numbers quantify how many cases each model misses, on average, per week.\n",
    "</div>\n",
    "\n",
    "\n",
    "|Model| MAE | RMSE |\n",
    "|-----|---------------- |------------- |\n",
    "|ARIMA| 1,130,306,000   | 2,235,600,000 |\n",
    "|SARIMA| 2,249,600      | 2,480,521 |\n",
    "|Prophet| 3,845,176     | 4,096,356 |\n",
    "\n",
    "\n",
    "<h2> Recommended Model </h2>\n",
    "\n",
    "<div style=\"margin: 0 0 0 2rem;\">\n",
    "The SARIMA (1, 1, 1)(1, 1, 1, 7) model yields the lowest error and well‑behaved residuals (Ljung–Box p = 0.23), making it both accurate and interpretable for stakeholders.\n",
    "</div>\n",
    "\n",
    "<br>\n",
    "\n",
    "<h2> Next Steps </h2>\n",
    "    \n",
    "<div style=\"margin: 0 0 0 2rem;\">\n",
    "    \n",
    "1. **Experimenting with Different Hyperparameter Values:** Future works of this project could focus on performing more experiments with different ARIMA model hyperparameters (p, d, q seasonal) and other Prophet hyperparameters (additive vs. multiplicative seasonality, changepoint settings).\n",
    "\n",
    "2. **Experimenting with Deep Learning Models:** Another possible improvement to this work is including Deep Learning models in the model comparisons to further make the analysis more robust.\n",
    "</div>"
   ]
  },
  {
   "cell_type": "markdown",
   "id": "756a8466-247d-49f8-9266-923caa2b1330",
   "metadata": {},
   "source": [
    "<br>\n",
    "<br>\n",
    "\n",
    "____\n",
    "\n",
    "<br>\n",
    "\n",
    "<h2 style=\"text-align: center; font-size: 1rem; margin: 0 0 1rem 0;\">Section II</h2>\n",
    "<h1 style=\"text-align: center; font-size: 2rem; margin: 0 0 1rem 0;\">Project Implementation</h1>"
   ]
  },
  {
   "cell_type": "markdown",
   "id": "f20b4487-58c3-4736-bc70-871a27fb3253",
   "metadata": {},
   "source": [
    "<h2 style=\"padding: 0.5rem; background-color: #513d5c; color: white;\">Imports</h2>"
   ]
  },
  {
   "cell_type": "code",
   "execution_count": 44,
   "id": "61d3cbd9-e70a-4c91-9f66-67348c47d0ff",
   "metadata": {},
   "outputs": [],
   "source": [
    "import matplotlib.pyplot as plt\n",
    "import seaborn as sns\n",
    "import pandas as pd\n",
    "import numpy as np\n",
    "from prophet import Prophet\n",
    "from sklearn.metrics import mean_absolute_error, mean_squared_error\n",
    "from statsmodels.tsa.stattools import adfuller\n",
    "from statsmodels.tsa.seasonal import seasonal_decompose\n",
    "from statsmodels.graphics.tsaplots import plot_acf, plot_pacf\n",
    "from statsmodels.stats.diagnostic import acorr_ljungbox\n",
    "from statsmodels.tsa.arima.model import ARIMA\n",
    "from statsmodels.tsa.statespace.sarimax import SARIMAX"
   ]
  },
  {
   "cell_type": "code",
   "execution_count": 45,
   "id": "0b17033e-740e-4c1c-bf8e-75aeff53aa0f",
   "metadata": {},
   "outputs": [],
   "source": [
    "sns.set_style('whitegrid')\n",
    "plt.rcParams.update({\n",
    "    'figure.dpi':       120,\n",
    "    'axes.titlesize':   16,\n",
    "    'axes.labelsize':   14,\n",
    "    'xtick.labelsize':  12,\n",
    "    'ytick.labelsize':  12,\n",
    "})"
   ]
  },
  {
   "cell_type": "markdown",
   "id": "93d3168b-dfb7-4c2d-b949-565d71f6d862",
   "metadata": {},
   "source": [
    "<h2 style=\"padding: 0.5rem; background-color: #513d5c; color: white;\">Data Load</h2>"
   ]
  },
  {
   "cell_type": "code",
   "execution_count": 46,
   "id": "ca472c9b-5c5b-4944-8500-e3f8e025fa9d",
   "metadata": {},
   "outputs": [
    {
     "data": {
      "text/html": [
       "<div>\n",
       "<style scoped>\n",
       "    .dataframe tbody tr th:only-of-type {\n",
       "        vertical-align: middle;\n",
       "    }\n",
       "\n",
       "    .dataframe tbody tr th {\n",
       "        vertical-align: top;\n",
       "    }\n",
       "\n",
       "    .dataframe thead th {\n",
       "        text-align: right;\n",
       "    }\n",
       "</style>\n",
       "<table border=\"1\" class=\"dataframe\">\n",
       "  <thead>\n",
       "    <tr style=\"text-align: right;\">\n",
       "      <th></th>\n",
       "      <th>SNo</th>\n",
       "      <th>ObservationDate</th>\n",
       "      <th>Province/State</th>\n",
       "      <th>Country/Region</th>\n",
       "      <th>Last Update</th>\n",
       "      <th>Confirmed</th>\n",
       "      <th>Deaths</th>\n",
       "      <th>Recovered</th>\n",
       "    </tr>\n",
       "  </thead>\n",
       "  <tbody>\n",
       "    <tr>\n",
       "      <th>0</th>\n",
       "      <td>1</td>\n",
       "      <td>01/22/2020</td>\n",
       "      <td>Anhui</td>\n",
       "      <td>Mainland China</td>\n",
       "      <td>1/22/2020 17:00</td>\n",
       "      <td>1.0</td>\n",
       "      <td>0.0</td>\n",
       "      <td>0.0</td>\n",
       "    </tr>\n",
       "    <tr>\n",
       "      <th>1</th>\n",
       "      <td>2</td>\n",
       "      <td>01/22/2020</td>\n",
       "      <td>Beijing</td>\n",
       "      <td>Mainland China</td>\n",
       "      <td>1/22/2020 17:00</td>\n",
       "      <td>14.0</td>\n",
       "      <td>0.0</td>\n",
       "      <td>0.0</td>\n",
       "    </tr>\n",
       "    <tr>\n",
       "      <th>2</th>\n",
       "      <td>3</td>\n",
       "      <td>01/22/2020</td>\n",
       "      <td>Chongqing</td>\n",
       "      <td>Mainland China</td>\n",
       "      <td>1/22/2020 17:00</td>\n",
       "      <td>6.0</td>\n",
       "      <td>0.0</td>\n",
       "      <td>0.0</td>\n",
       "    </tr>\n",
       "    <tr>\n",
       "      <th>3</th>\n",
       "      <td>4</td>\n",
       "      <td>01/22/2020</td>\n",
       "      <td>Fujian</td>\n",
       "      <td>Mainland China</td>\n",
       "      <td>1/22/2020 17:00</td>\n",
       "      <td>1.0</td>\n",
       "      <td>0.0</td>\n",
       "      <td>0.0</td>\n",
       "    </tr>\n",
       "    <tr>\n",
       "      <th>4</th>\n",
       "      <td>5</td>\n",
       "      <td>01/22/2020</td>\n",
       "      <td>Gansu</td>\n",
       "      <td>Mainland China</td>\n",
       "      <td>1/22/2020 17:00</td>\n",
       "      <td>0.0</td>\n",
       "      <td>0.0</td>\n",
       "      <td>0.0</td>\n",
       "    </tr>\n",
       "    <tr>\n",
       "      <th>...</th>\n",
       "      <td>...</td>\n",
       "      <td>...</td>\n",
       "      <td>...</td>\n",
       "      <td>...</td>\n",
       "      <td>...</td>\n",
       "      <td>...</td>\n",
       "      <td>...</td>\n",
       "      <td>...</td>\n",
       "    </tr>\n",
       "    <tr>\n",
       "      <th>306424</th>\n",
       "      <td>306425</td>\n",
       "      <td>05/29/2021</td>\n",
       "      <td>Zaporizhia Oblast</td>\n",
       "      <td>Ukraine</td>\n",
       "      <td>2021-05-30 04:20:55</td>\n",
       "      <td>102641.0</td>\n",
       "      <td>2335.0</td>\n",
       "      <td>95289.0</td>\n",
       "    </tr>\n",
       "    <tr>\n",
       "      <th>306425</th>\n",
       "      <td>306426</td>\n",
       "      <td>05/29/2021</td>\n",
       "      <td>Zeeland</td>\n",
       "      <td>Netherlands</td>\n",
       "      <td>2021-05-30 04:20:55</td>\n",
       "      <td>29147.0</td>\n",
       "      <td>245.0</td>\n",
       "      <td>0.0</td>\n",
       "    </tr>\n",
       "    <tr>\n",
       "      <th>306426</th>\n",
       "      <td>306427</td>\n",
       "      <td>05/29/2021</td>\n",
       "      <td>Zhejiang</td>\n",
       "      <td>Mainland China</td>\n",
       "      <td>2021-05-30 04:20:55</td>\n",
       "      <td>1364.0</td>\n",
       "      <td>1.0</td>\n",
       "      <td>1324.0</td>\n",
       "    </tr>\n",
       "    <tr>\n",
       "      <th>306427</th>\n",
       "      <td>306428</td>\n",
       "      <td>05/29/2021</td>\n",
       "      <td>Zhytomyr Oblast</td>\n",
       "      <td>Ukraine</td>\n",
       "      <td>2021-05-30 04:20:55</td>\n",
       "      <td>87550.0</td>\n",
       "      <td>1738.0</td>\n",
       "      <td>83790.0</td>\n",
       "    </tr>\n",
       "    <tr>\n",
       "      <th>306428</th>\n",
       "      <td>306429</td>\n",
       "      <td>05/29/2021</td>\n",
       "      <td>Zuid-Holland</td>\n",
       "      <td>Netherlands</td>\n",
       "      <td>2021-05-30 04:20:55</td>\n",
       "      <td>391559.0</td>\n",
       "      <td>4252.0</td>\n",
       "      <td>0.0</td>\n",
       "    </tr>\n",
       "  </tbody>\n",
       "</table>\n",
       "<p>306429 rows × 8 columns</p>\n",
       "</div>"
      ],
      "text/plain": [
       "           SNo ObservationDate     Province/State  Country/Region  \\\n",
       "0            1      01/22/2020              Anhui  Mainland China   \n",
       "1            2      01/22/2020            Beijing  Mainland China   \n",
       "2            3      01/22/2020          Chongqing  Mainland China   \n",
       "3            4      01/22/2020             Fujian  Mainland China   \n",
       "4            5      01/22/2020              Gansu  Mainland China   \n",
       "...        ...             ...                ...             ...   \n",
       "306424  306425      05/29/2021  Zaporizhia Oblast         Ukraine   \n",
       "306425  306426      05/29/2021            Zeeland     Netherlands   \n",
       "306426  306427      05/29/2021           Zhejiang  Mainland China   \n",
       "306427  306428      05/29/2021    Zhytomyr Oblast         Ukraine   \n",
       "306428  306429      05/29/2021       Zuid-Holland     Netherlands   \n",
       "\n",
       "                Last Update  Confirmed  Deaths  Recovered  \n",
       "0           1/22/2020 17:00        1.0     0.0        0.0  \n",
       "1           1/22/2020 17:00       14.0     0.0        0.0  \n",
       "2           1/22/2020 17:00        6.0     0.0        0.0  \n",
       "3           1/22/2020 17:00        1.0     0.0        0.0  \n",
       "4           1/22/2020 17:00        0.0     0.0        0.0  \n",
       "...                     ...        ...     ...        ...  \n",
       "306424  2021-05-30 04:20:55   102641.0  2335.0    95289.0  \n",
       "306425  2021-05-30 04:20:55    29147.0   245.0        0.0  \n",
       "306426  2021-05-30 04:20:55     1364.0     1.0     1324.0  \n",
       "306427  2021-05-30 04:20:55    87550.0  1738.0    83790.0  \n",
       "306428  2021-05-30 04:20:55   391559.0  4252.0        0.0  \n",
       "\n",
       "[306429 rows x 8 columns]"
      ]
     },
     "execution_count": 46,
     "metadata": {},
     "output_type": "execute_result"
    }
   ],
   "source": [
    "df = pd.read_csv('../data/covid_19_data.csv')\n",
    "df"
   ]
  },
  {
   "cell_type": "markdown",
   "id": "1367589b-4a39-45d7-aeb8-899c77c85d0c",
   "metadata": {},
   "source": [
    "<h2 style=\"padding: 0.5rem; background-color: #513d5c; color: white;\">Initial Data Cleaning</h2>"
   ]
  },
  {
   "cell_type": "code",
   "execution_count": 47,
   "id": "ab1b34b2-2463-46bf-979e-26a2a7165194",
   "metadata": {},
   "outputs": [
    {
     "name": "stdout",
     "output_type": "stream",
     "text": [
      "<class 'pandas.core.frame.DataFrame'>\n",
      "RangeIndex: 306429 entries, 0 to 306428\n",
      "Data columns (total 8 columns):\n",
      " #   Column           Non-Null Count   Dtype  \n",
      "---  ------           --------------   -----  \n",
      " 0   SNo              306429 non-null  int64  \n",
      " 1   ObservationDate  306429 non-null  object \n",
      " 2   Province/State   228326 non-null  object \n",
      " 3   Country/Region   306429 non-null  object \n",
      " 4   Last Update      306429 non-null  object \n",
      " 5   Confirmed        306429 non-null  float64\n",
      " 6   Deaths           306429 non-null  float64\n",
      " 7   Recovered        306429 non-null  float64\n",
      "dtypes: float64(3), int64(1), object(4)\n",
      "memory usage: 18.7+ MB\n"
     ]
    }
   ],
   "source": [
    "df.info()"
   ]
  },
  {
   "cell_type": "code",
   "execution_count": 48,
   "id": "348e2c94-d5c3-488b-999f-d7552c06bc52",
   "metadata": {},
   "outputs": [
    {
     "data": {
      "text/html": [
       "<div>\n",
       "<style scoped>\n",
       "    .dataframe tbody tr th:only-of-type {\n",
       "        vertical-align: middle;\n",
       "    }\n",
       "\n",
       "    .dataframe tbody tr th {\n",
       "        vertical-align: top;\n",
       "    }\n",
       "\n",
       "    .dataframe thead th {\n",
       "        text-align: right;\n",
       "    }\n",
       "</style>\n",
       "<table border=\"1\" class=\"dataframe\">\n",
       "  <thead>\n",
       "    <tr style=\"text-align: right;\">\n",
       "      <th></th>\n",
       "      <th>SNo</th>\n",
       "      <th>Confirmed</th>\n",
       "      <th>Deaths</th>\n",
       "      <th>Recovered</th>\n",
       "    </tr>\n",
       "  </thead>\n",
       "  <tbody>\n",
       "    <tr>\n",
       "      <th>count</th>\n",
       "      <td>306429.000000</td>\n",
       "      <td>3.064290e+05</td>\n",
       "      <td>306429.000000</td>\n",
       "      <td>3.064290e+05</td>\n",
       "    </tr>\n",
       "    <tr>\n",
       "      <th>mean</th>\n",
       "      <td>153215.000000</td>\n",
       "      <td>8.567091e+04</td>\n",
       "      <td>2036.403268</td>\n",
       "      <td>5.042029e+04</td>\n",
       "    </tr>\n",
       "    <tr>\n",
       "      <th>std</th>\n",
       "      <td>88458.577156</td>\n",
       "      <td>2.775516e+05</td>\n",
       "      <td>6410.938048</td>\n",
       "      <td>2.015124e+05</td>\n",
       "    </tr>\n",
       "    <tr>\n",
       "      <th>min</th>\n",
       "      <td>1.000000</td>\n",
       "      <td>-3.028440e+05</td>\n",
       "      <td>-178.000000</td>\n",
       "      <td>-8.544050e+05</td>\n",
       "    </tr>\n",
       "    <tr>\n",
       "      <th>25%</th>\n",
       "      <td>76608.000000</td>\n",
       "      <td>1.042000e+03</td>\n",
       "      <td>13.000000</td>\n",
       "      <td>1.100000e+01</td>\n",
       "    </tr>\n",
       "    <tr>\n",
       "      <th>50%</th>\n",
       "      <td>153215.000000</td>\n",
       "      <td>1.037500e+04</td>\n",
       "      <td>192.000000</td>\n",
       "      <td>1.751000e+03</td>\n",
       "    </tr>\n",
       "    <tr>\n",
       "      <th>75%</th>\n",
       "      <td>229822.000000</td>\n",
       "      <td>5.075200e+04</td>\n",
       "      <td>1322.000000</td>\n",
       "      <td>2.027000e+04</td>\n",
       "    </tr>\n",
       "    <tr>\n",
       "      <th>max</th>\n",
       "      <td>306429.000000</td>\n",
       "      <td>5.863138e+06</td>\n",
       "      <td>112385.000000</td>\n",
       "      <td>6.399531e+06</td>\n",
       "    </tr>\n",
       "  </tbody>\n",
       "</table>\n",
       "</div>"
      ],
      "text/plain": [
       "                 SNo     Confirmed         Deaths     Recovered\n",
       "count  306429.000000  3.064290e+05  306429.000000  3.064290e+05\n",
       "mean   153215.000000  8.567091e+04    2036.403268  5.042029e+04\n",
       "std     88458.577156  2.775516e+05    6410.938048  2.015124e+05\n",
       "min         1.000000 -3.028440e+05    -178.000000 -8.544050e+05\n",
       "25%     76608.000000  1.042000e+03      13.000000  1.100000e+01\n",
       "50%    153215.000000  1.037500e+04     192.000000  1.751000e+03\n",
       "75%    229822.000000  5.075200e+04    1322.000000  2.027000e+04\n",
       "max    306429.000000  5.863138e+06  112385.000000  6.399531e+06"
      ]
     },
     "execution_count": 48,
     "metadata": {},
     "output_type": "execute_result"
    }
   ],
   "source": [
    "df.describe()"
   ]
  },
  {
   "cell_type": "code",
   "execution_count": 49,
   "id": "d5c99b11-1cda-4716-8af3-373c36c6d753",
   "metadata": {},
   "outputs": [
    {
     "data": {
      "text/plain": [
       "SNo                    0\n",
       "ObservationDate        0\n",
       "Province/State     78103\n",
       "Country/Region         0\n",
       "Last Update            0\n",
       "Confirmed              0\n",
       "Deaths                 0\n",
       "Recovered              0\n",
       "dtype: int64"
      ]
     },
     "execution_count": 49,
     "metadata": {},
     "output_type": "execute_result"
    }
   ],
   "source": [
    "df.isnull().sum()"
   ]
  },
  {
   "cell_type": "markdown",
   "id": "06853536-0f39-4bd2-9eb1-e90b50ac998f",
   "metadata": {},
   "source": [
    "There is no need to remove the records with the null values in the \"Province/State\" column."
   ]
  },
  {
   "cell_type": "markdown",
   "id": "c8a5bc49-55f7-4285-9a3e-17684c6b1398",
   "metadata": {},
   "source": [
    "<h2 style=\"padding: 0.5rem; background-color: #513d5c; color: white;\">Country Name Formatting</h2>"
   ]
  },
  {
   "cell_type": "code",
   "execution_count": 50,
   "id": "14682d47-fcc9-48ee-be74-c43c05fd1326",
   "metadata": {},
   "outputs": [],
   "source": [
    "clean_country_mapping = {\n",
    "    \"('St. Martin',)\": \"St. Martin\",\n",
    "    \"occupied Palestinian territory\": \"Palestine\"\n",
    "}\n",
    "\n",
    "df[\"Country/Region\"] = df[\"Country/Region\"]\\\n",
    "    .str.strip()\\\n",
    "    .replace(clean_country_mapping)"
   ]
  },
  {
   "cell_type": "code",
   "execution_count": 51,
   "id": "04913b69-15a1-4153-9203-02835e5f7d7d",
   "metadata": {},
   "outputs": [
    {
     "name": "stdout",
     "output_type": "stream",
     "text": [
      "\"ObservationDate\" datatype: datetime64[ns]\n"
     ]
    }
   ],
   "source": [
    "# Convert to datetime series\n",
    "df['ObservationDate'] = pd.to_datetime(df['ObservationDate'])\n",
    "print(f'\"ObservationDate\" datatype: {df.ObservationDate.dtype}')"
   ]
  },
  {
   "cell_type": "code",
   "execution_count": 52,
   "id": "321e0715-599d-477f-9f2d-ec5a0e608e9b",
   "metadata": {},
   "outputs": [
    {
     "data": {
      "text/html": [
       "<div>\n",
       "<style scoped>\n",
       "    .dataframe tbody tr th:only-of-type {\n",
       "        vertical-align: middle;\n",
       "    }\n",
       "\n",
       "    .dataframe tbody tr th {\n",
       "        vertical-align: top;\n",
       "    }\n",
       "\n",
       "    .dataframe thead th {\n",
       "        text-align: right;\n",
       "    }\n",
       "</style>\n",
       "<table border=\"1\" class=\"dataframe\">\n",
       "  <thead>\n",
       "    <tr style=\"text-align: right;\">\n",
       "      <th></th>\n",
       "      <th>Country/Region</th>\n",
       "      <th>ObservationDate</th>\n",
       "      <th>Confirmed</th>\n",
       "    </tr>\n",
       "  </thead>\n",
       "  <tbody>\n",
       "    <tr>\n",
       "      <th>0</th>\n",
       "      <td>Mainland China</td>\n",
       "      <td>2020-01-22</td>\n",
       "      <td>1.0</td>\n",
       "    </tr>\n",
       "    <tr>\n",
       "      <th>1</th>\n",
       "      <td>Mainland China</td>\n",
       "      <td>2020-01-22</td>\n",
       "      <td>14.0</td>\n",
       "    </tr>\n",
       "    <tr>\n",
       "      <th>2</th>\n",
       "      <td>Mainland China</td>\n",
       "      <td>2020-01-22</td>\n",
       "      <td>6.0</td>\n",
       "    </tr>\n",
       "    <tr>\n",
       "      <th>3</th>\n",
       "      <td>Mainland China</td>\n",
       "      <td>2020-01-22</td>\n",
       "      <td>1.0</td>\n",
       "    </tr>\n",
       "    <tr>\n",
       "      <th>4</th>\n",
       "      <td>Mainland China</td>\n",
       "      <td>2020-01-22</td>\n",
       "      <td>0.0</td>\n",
       "    </tr>\n",
       "    <tr>\n",
       "      <th>...</th>\n",
       "      <td>...</td>\n",
       "      <td>...</td>\n",
       "      <td>...</td>\n",
       "    </tr>\n",
       "    <tr>\n",
       "      <th>306424</th>\n",
       "      <td>Ukraine</td>\n",
       "      <td>2021-05-29</td>\n",
       "      <td>102641.0</td>\n",
       "    </tr>\n",
       "    <tr>\n",
       "      <th>306425</th>\n",
       "      <td>Netherlands</td>\n",
       "      <td>2021-05-29</td>\n",
       "      <td>29147.0</td>\n",
       "    </tr>\n",
       "    <tr>\n",
       "      <th>306426</th>\n",
       "      <td>Mainland China</td>\n",
       "      <td>2021-05-29</td>\n",
       "      <td>1364.0</td>\n",
       "    </tr>\n",
       "    <tr>\n",
       "      <th>306427</th>\n",
       "      <td>Ukraine</td>\n",
       "      <td>2021-05-29</td>\n",
       "      <td>87550.0</td>\n",
       "    </tr>\n",
       "    <tr>\n",
       "      <th>306428</th>\n",
       "      <td>Netherlands</td>\n",
       "      <td>2021-05-29</td>\n",
       "      <td>391559.0</td>\n",
       "    </tr>\n",
       "  </tbody>\n",
       "</table>\n",
       "<p>306429 rows × 3 columns</p>\n",
       "</div>"
      ],
      "text/plain": [
       "        Country/Region ObservationDate  Confirmed\n",
       "0       Mainland China      2020-01-22        1.0\n",
       "1       Mainland China      2020-01-22       14.0\n",
       "2       Mainland China      2020-01-22        6.0\n",
       "3       Mainland China      2020-01-22        1.0\n",
       "4       Mainland China      2020-01-22        0.0\n",
       "...                ...             ...        ...\n",
       "306424         Ukraine      2021-05-29   102641.0\n",
       "306425     Netherlands      2021-05-29    29147.0\n",
       "306426  Mainland China      2021-05-29     1364.0\n",
       "306427         Ukraine      2021-05-29    87550.0\n",
       "306428     Netherlands      2021-05-29   391559.0\n",
       "\n",
       "[306429 rows x 3 columns]"
      ]
     },
     "execution_count": 52,
     "metadata": {},
     "output_type": "execute_result"
    }
   ],
   "source": [
    "# Filtering by needed columns\n",
    "main_df = df.loc[:, ['Country/Region', 'ObservationDate', 'Confirmed']]\n",
    "main_df"
   ]
  },
  {
   "cell_type": "code",
   "execution_count": 53,
   "id": "60814ed0-94c4-455f-b7ab-65ce40881182",
   "metadata": {},
   "outputs": [
    {
     "data": {
      "text/html": [
       "<div>\n",
       "<style scoped>\n",
       "    .dataframe tbody tr th:only-of-type {\n",
       "        vertical-align: middle;\n",
       "    }\n",
       "\n",
       "    .dataframe tbody tr th {\n",
       "        vertical-align: top;\n",
       "    }\n",
       "\n",
       "    .dataframe thead th {\n",
       "        text-align: right;\n",
       "    }\n",
       "</style>\n",
       "<table border=\"1\" class=\"dataframe\">\n",
       "  <thead>\n",
       "    <tr style=\"text-align: right;\">\n",
       "      <th></th>\n",
       "      <th></th>\n",
       "      <th>Confirmed</th>\n",
       "    </tr>\n",
       "    <tr>\n",
       "      <th>Country/Region</th>\n",
       "      <th>ObservationDate</th>\n",
       "      <th></th>\n",
       "    </tr>\n",
       "  </thead>\n",
       "  <tbody>\n",
       "    <tr>\n",
       "      <th rowspan=\"5\" valign=\"top\">Mainland China</th>\n",
       "      <th>2020-01-22</th>\n",
       "      <td>1.0</td>\n",
       "    </tr>\n",
       "    <tr>\n",
       "      <th>2020-01-22</th>\n",
       "      <td>14.0</td>\n",
       "    </tr>\n",
       "    <tr>\n",
       "      <th>2020-01-22</th>\n",
       "      <td>6.0</td>\n",
       "    </tr>\n",
       "    <tr>\n",
       "      <th>2020-01-22</th>\n",
       "      <td>1.0</td>\n",
       "    </tr>\n",
       "    <tr>\n",
       "      <th>2020-01-22</th>\n",
       "      <td>0.0</td>\n",
       "    </tr>\n",
       "    <tr>\n",
       "      <th>...</th>\n",
       "      <th>...</th>\n",
       "      <td>...</td>\n",
       "    </tr>\n",
       "    <tr>\n",
       "      <th>Ukraine</th>\n",
       "      <th>2021-05-29</th>\n",
       "      <td>102641.0</td>\n",
       "    </tr>\n",
       "    <tr>\n",
       "      <th>Netherlands</th>\n",
       "      <th>2021-05-29</th>\n",
       "      <td>29147.0</td>\n",
       "    </tr>\n",
       "    <tr>\n",
       "      <th>Mainland China</th>\n",
       "      <th>2021-05-29</th>\n",
       "      <td>1364.0</td>\n",
       "    </tr>\n",
       "    <tr>\n",
       "      <th>Ukraine</th>\n",
       "      <th>2021-05-29</th>\n",
       "      <td>87550.0</td>\n",
       "    </tr>\n",
       "    <tr>\n",
       "      <th>Netherlands</th>\n",
       "      <th>2021-05-29</th>\n",
       "      <td>391559.0</td>\n",
       "    </tr>\n",
       "  </tbody>\n",
       "</table>\n",
       "<p>306429 rows × 1 columns</p>\n",
       "</div>"
      ],
      "text/plain": [
       "                                Confirmed\n",
       "Country/Region ObservationDate           \n",
       "Mainland China 2020-01-22             1.0\n",
       "               2020-01-22            14.0\n",
       "               2020-01-22             6.0\n",
       "               2020-01-22             1.0\n",
       "               2020-01-22             0.0\n",
       "...                                   ...\n",
       "Ukraine        2021-05-29        102641.0\n",
       "Netherlands    2021-05-29         29147.0\n",
       "Mainland China 2021-05-29          1364.0\n",
       "Ukraine        2021-05-29         87550.0\n",
       "Netherlands    2021-05-29        391559.0\n",
       "\n",
       "[306429 rows x 1 columns]"
      ]
     },
     "execution_count": 53,
     "metadata": {},
     "output_type": "execute_result"
    }
   ],
   "source": [
    "# Setting the [country, date] column as multilevel df indices\n",
    "main_df = main_df.set_index(['Country/Region', 'ObservationDate'])\n",
    "main_df"
   ]
  },
  {
   "cell_type": "code",
   "execution_count": 54,
   "id": "7984505e-564b-476a-9125-d70db4a380f7",
   "metadata": {},
   "outputs": [
    {
     "data": {
      "text/html": [
       "<div>\n",
       "<style scoped>\n",
       "    .dataframe tbody tr th:only-of-type {\n",
       "        vertical-align: middle;\n",
       "    }\n",
       "\n",
       "    .dataframe tbody tr th {\n",
       "        vertical-align: top;\n",
       "    }\n",
       "\n",
       "    .dataframe thead th {\n",
       "        text-align: right;\n",
       "    }\n",
       "</style>\n",
       "<table border=\"1\" class=\"dataframe\">\n",
       "  <thead>\n",
       "    <tr style=\"text-align: right;\">\n",
       "      <th></th>\n",
       "      <th></th>\n",
       "      <th>Confirmed</th>\n",
       "    </tr>\n",
       "    <tr>\n",
       "      <th>Country/Region</th>\n",
       "      <th>ObservationDate</th>\n",
       "      <th></th>\n",
       "    </tr>\n",
       "  </thead>\n",
       "  <tbody>\n",
       "    <tr>\n",
       "      <th rowspan=\"5\" valign=\"top\">Afghanistan</th>\n",
       "      <th>2020-03-01</th>\n",
       "      <td>7.0</td>\n",
       "    </tr>\n",
       "    <tr>\n",
       "      <th>2020-03-08</th>\n",
       "      <td>24.0</td>\n",
       "    </tr>\n",
       "    <tr>\n",
       "      <th>2020-03-15</th>\n",
       "      <td>82.0</td>\n",
       "    </tr>\n",
       "    <tr>\n",
       "      <th>2020-03-22</th>\n",
       "      <td>180.0</td>\n",
       "    </tr>\n",
       "    <tr>\n",
       "      <th>2020-03-29</th>\n",
       "      <td>556.0</td>\n",
       "    </tr>\n",
       "    <tr>\n",
       "      <th>...</th>\n",
       "      <th>...</th>\n",
       "      <td>...</td>\n",
       "    </tr>\n",
       "    <tr>\n",
       "      <th rowspan=\"5\" valign=\"top\">Zimbabwe</th>\n",
       "      <th>2021-05-02</th>\n",
       "      <td>267490.0</td>\n",
       "    </tr>\n",
       "    <tr>\n",
       "      <th>2021-05-09</th>\n",
       "      <td>268611.0</td>\n",
       "    </tr>\n",
       "    <tr>\n",
       "      <th>2021-05-16</th>\n",
       "      <td>269487.0</td>\n",
       "    </tr>\n",
       "    <tr>\n",
       "      <th>2021-05-23</th>\n",
       "      <td>270439.0</td>\n",
       "    </tr>\n",
       "    <tr>\n",
       "      <th>2021-05-30</th>\n",
       "      <td>232926.0</td>\n",
       "    </tr>\n",
       "  </tbody>\n",
       "</table>\n",
       "<p>12627 rows × 1 columns</p>\n",
       "</div>"
      ],
      "text/plain": [
       "                                Confirmed\n",
       "Country/Region ObservationDate           \n",
       "Afghanistan    2020-03-01             7.0\n",
       "               2020-03-08            24.0\n",
       "               2020-03-15            82.0\n",
       "               2020-03-22           180.0\n",
       "               2020-03-29           556.0\n",
       "...                                   ...\n",
       "Zimbabwe       2021-05-02        267490.0\n",
       "               2021-05-09        268611.0\n",
       "               2021-05-16        269487.0\n",
       "               2021-05-23        270439.0\n",
       "               2021-05-30        232926.0\n",
       "\n",
       "[12627 rows x 1 columns]"
      ]
     },
     "execution_count": 54,
     "metadata": {},
     "output_type": "execute_result"
    }
   ],
   "source": [
    "# Downsampling to MONTHLY frequency\n",
    "main_df = main_df.groupby(level='Country/Region').resample('W', level='ObservationDate').sum()\n",
    "\n",
    "#date_to_monthly = main_df.index.levels[1].to_period('M')\n",
    "#main_df.index = main_df.index.set_levels(date_to_monthly, level=1)\n",
    "main_df"
   ]
  },
  {
   "cell_type": "markdown",
   "id": "e47edcf9-931d-4d3b-8378-a189b9cab61c",
   "metadata": {},
   "source": [
    "<h2 style=\"padding: 0.5rem; background-color: #513d5c; color: white;\">Seasonal-Trend Decomposition</h2>"
   ]
  },
  {
   "cell_type": "code",
   "execution_count": 65,
   "id": "e984342c-3333-4fff-a732-011648febecb",
   "metadata": {},
   "outputs": [
    {
     "data": {
      "text/plain": [
       "ObservationDate\n",
       "2020-01-26          0.0\n",
       "2020-02-02          5.0\n",
       "2020-02-09         17.0\n",
       "2020-02-16         21.0\n",
       "2020-02-23         21.0\n",
       "                ...    \n",
       "2021-05-02    7208375.0\n",
       "2021-05-09    7568568.0\n",
       "2021-05-16    7879073.0\n",
       "2021-05-23    8157971.0\n",
       "2021-05-30    7193520.0\n",
       "Freq: W-SUN, Name: Confirmed, Length: 71, dtype: float64"
      ]
     },
     "execution_count": 65,
     "metadata": {},
     "output_type": "execute_result"
    }
   ],
   "source": [
    "# Focusing on the Phillippines for TSA Analysis\n",
    "country = 'Philippines'\n",
    "ph_df = main_df.xs(country, level='Country/Region')['Confirmed'].ffill()\n",
    "ph_df.index = pd.to_datetime(ph_df.index)\n",
    "ph_df = ph_df.asfreq('W-SUN')\n",
    "ph_df"
   ]
  },
  {
   "cell_type": "code",
   "execution_count": 66,
   "id": "a9d13d4f-27f7-4f79-b89b-e27f0a56afb7",
   "metadata": {},
   "outputs": [
    {
     "data": {
      "image/png": "[encoded data removed]",
      "text/plain": [
       "<Figure size 768x576 with 4 Axes>"
      ]
     },
     "metadata": {},
     "output_type": "display_data"
    }
   ],
   "source": [
    "decomp = seasonal_decompose(ph_df, model='additive', period=7)\n",
    "decomp.plot()\n",
    "plt.show()"
   ]
  },
  {
   "cell_type": "markdown",
   "id": "a3417a84-56e8-449b-a39d-9f5b12c49907",
   "metadata": {},
   "source": [
    "The Philippine COVID weekly time series data shows a growing trend over time and apparent seasonal patterns. This highly suggests that the data is **NONSTATIONARY**."
   ]
  },
  {
   "cell_type": "markdown",
   "id": "2550667b-f6bb-4c0c-bce8-ddb13c618fac",
   "metadata": {},
   "source": [
    "<h2 style=\"padding: 0.5rem; background-color: #513d5c; color: white;\">Stationary Check (ADF Test)</h2>"
   ]
  },
  {
   "cell_type": "code",
   "execution_count": 67,
   "id": "0e96aeb8-e78d-4253-a678-ebbf7808229d",
   "metadata": {},
   "outputs": [
    {
     "name": "stdout",
     "output_type": "stream",
     "text": [
      "ADF statistic: -1.0283\n",
      "p‑value:       0.7428\n"
     ]
    }
   ],
   "source": [
    "adf_res = adfuller(ph_df)\n",
    "print(f\"ADF statistic: {adf_res[0]:.4f}\")\n",
    "print(f\"p‑value:       {adf_res[1]:.4f}\")"
   ]
  },
  {
   "cell_type": "markdown",
   "id": "ff35081d-286d-4c27-98ea-eb3939c367b2",
   "metadata": {},
   "source": [
    "The ADF statistic was –1.0283, and the p‑value was 0.7428. Because the test statistic is much higher (less negative) than typical critical values (e.g. –3.43 at 1 % or –2.86 at 5 %), and the p‑value (≈ 0.74) is well above the 0.05 threshold, we **fail to reject H₀**. This test indicates that the data is nonstationary."
   ]
  },
  {
   "cell_type": "markdown",
   "id": "1a59a086-b14e-41c3-92cc-b1755484052d",
   "metadata": {},
   "source": [
    "<h2 style=\"padding: 0.5rem; background-color: #513d5c; color: white;\">Log Transformation and Differencing</h2>"
   ]
  },
  {
   "cell_type": "code",
   "execution_count": 68,
   "id": "0f41dbce-5b68-4dc5-8842-903d7c1a8689",
   "metadata": {},
   "outputs": [
    {
     "data": {
      "image/png": "[encoded data removed]",
      "text/plain": [
       "<Figure size 1200x480 with 1 Axes>"
      ]
     },
     "metadata": {},
     "output_type": "display_data"
    }
   ],
   "source": [
    "ph_df_log = np.log1p(ph_df)\n",
    "ph_df_diff = ph_df_log.diff().dropna()\n",
    "\n",
    "# quick plot to see if the series now “wanders” less\n",
    "ph_df_diff.plot(figsize=(10,4), title=\"First Difference of Confirmed Cases\")\n",
    "plt.ylabel(\"ΔConfirmed\")\n",
    "plt.show()"
   ]
  },
  {
   "cell_type": "code",
   "execution_count": 69,
   "id": "41daff53-2023-4185-9732-6ae9f38bbfe0",
   "metadata": {},
   "outputs": [
    {
     "name": "stdout",
     "output_type": "stream",
     "text": [
      "ADF statistic: -2.9347\n",
      "p‑value:       0.0415\n"
     ]
    }
   ],
   "source": [
    "adf_res = adfuller(ph_df_diff)\n",
    "print(f\"ADF statistic: {adf_res[0]:.4f}\")\n",
    "print(f\"p‑value:       {adf_res[1]:.4f}\")"
   ]
  },
  {
   "cell_type": "markdown",
   "id": "f6ae7157-dd0c-4642-83e5-3e688528f2db",
   "metadata": {},
   "source": [
    "After performing log transformation then first-order differencing, the p-value is now at 0.04, allowing us to reject the null hypothesis. This suggests that the data is now **stationary**."
   ]
  },
  {
   "cell_type": "markdown",
   "id": "1f700ca4-937e-484f-ac9b-3081893db5e4",
   "metadata": {},
   "source": [
    "## Model 1: ARIMA"
   ]
  },
  {
   "cell_type": "code",
   "execution_count": 70,
   "id": "d5e12f36-9210-4195-a9a0-115dd47713c3",
   "metadata": {},
   "outputs": [],
   "source": [
    "m1 = ARIMA(\n",
    "    ph_df_diff, \n",
    "    order=(1,0,1),\n",
    "    dates=ph_df_diff.index,\n",
    "    freq=ph_df_diff.index.inferred_freq\n",
    ").fit()\n",
    "fc1_diff = m1.get_forecast(steps=30).predicted_mean\n",
    "\n",
    "# Revert to original scale\n",
    "last_log = ph_df_log.iloc[-1]\n",
    "fc1_log = fc1_diff.cumsum() + last_log\n",
    "fc1 = np.expm1(fc1_log)"
   ]
  },
  {
   "cell_type": "markdown",
   "id": "1f695fac-cb05-4f0e-889d-17b1e2903b6d",
   "metadata": {},
   "source": [
    "## Model 2: SARIMAX"
   ]
  },
  {
   "cell_type": "code",
   "execution_count": 72,
   "id": "4943f814-d433-49e0-8cce-a161625589f7",
   "metadata": {},
   "outputs": [],
   "source": [
    "sarima = SARIMAX(\n",
    "    ph_df_log,\n",
    "    order=(1, 1, 1),\n",
    "    seasonal_order=(1, 1, 1, 7),\n",
    "    dates=ph_df_log.index,\n",
    "    freq=ph_df_log.index.inferred_freq,\n",
    "    enforce_stationarity=False,\n",
    "    enforce_invertibility=False\n",
    ").fit(disp=False)\n",
    "\n",
    "fc2_log = sarima.get_forecast(steps=30).predicted_mean\n",
    "fc2 = np.expm1(fc2_log)"
   ]
  },
  {
   "cell_type": "markdown",
   "id": "8aba7050-a0b4-426c-b1df-78c73d7a2e26",
   "metadata": {},
   "source": [
    "## Model 3: Prophet"
   ]
  },
  {
   "cell_type": "code",
   "execution_count": 73,
   "id": "c03797db-ca11-40e2-8357-e1909a5d90f2",
   "metadata": {},
   "outputs": [
    {
     "name": "stderr",
     "output_type": "stream",
     "text": [
      "22:36:59 - cmdstanpy - INFO - Chain [1] start processing\n",
      "22:36:59 - cmdstanpy - INFO - Chain [1] done processing\n"
     ]
    }
   ],
   "source": [
    "dfp = ph_df.reset_index().rename(columns={'ObservationDate':'ds','Confirmed':'y'})\n",
    "m = Prophet(weekly_seasonality=True, daily_seasonality=False)\n",
    "m.fit(dfp)\n",
    "future = m.make_future_dataframe(periods=30)\n",
    "pf = m.predict(future)\n",
    "fc3 = pf.set_index('ds')['yhat'].iloc[-30:]"
   ]
  },
  {
   "cell_type": "markdown",
   "id": "3e484063-af20-4045-8800-8ebbbce3f911",
   "metadata": {},
   "source": [
    "# Model Evaluation"
   ]
  },
  {
   "cell_type": "code",
   "execution_count": 74,
   "id": "2193c35a-e0c1-46e6-9372-2976fd7b7585",
   "metadata": {},
   "outputs": [
    {
     "data": {
      "text/html": [
       "<div>\n",
       "<style scoped>\n",
       "    .dataframe tbody tr th:only-of-type {\n",
       "        vertical-align: middle;\n",
       "    }\n",
       "\n",
       "    .dataframe tbody tr th {\n",
       "        vertical-align: top;\n",
       "    }\n",
       "\n",
       "    .dataframe thead th {\n",
       "        text-align: right;\n",
       "    }\n",
       "</style>\n",
       "<table border=\"1\" class=\"dataframe\">\n",
       "  <thead>\n",
       "    <tr style=\"text-align: right;\">\n",
       "      <th></th>\n",
       "      <th>Model</th>\n",
       "      <th>MAE</th>\n",
       "      <th>RMSE</th>\n",
       "    </tr>\n",
       "  </thead>\n",
       "  <tbody>\n",
       "    <tr>\n",
       "      <th>0</th>\n",
       "      <td>ARIMA</td>\n",
       "      <td>1.130306e+09</td>\n",
       "      <td>2.235600e+09</td>\n",
       "    </tr>\n",
       "    <tr>\n",
       "      <th>1</th>\n",
       "      <td>SARIMA</td>\n",
       "      <td>2.249600e+06</td>\n",
       "      <td>2.480521e+06</td>\n",
       "    </tr>\n",
       "    <tr>\n",
       "      <th>2</th>\n",
       "      <td>Prophet</td>\n",
       "      <td>3.845176e+06</td>\n",
       "      <td>4.096356e+06</td>\n",
       "    </tr>\n",
       "  </tbody>\n",
       "</table>\n",
       "</div>"
      ],
      "text/plain": [
       "     Model           MAE          RMSE\n",
       "0    ARIMA  1.130306e+09  2.235600e+09\n",
       "1   SARIMA  2.249600e+06  2.480521e+06\n",
       "2  Prophet  3.845176e+06  4.096356e+06"
      ]
     },
     "metadata": {},
     "output_type": "display_data"
    }
   ],
   "source": [
    "actual = ph_df.iloc[-30:]\n",
    "\n",
    "def eval_forecast(pred):\n",
    "    mae = mean_absolute_error(actual, pred)\n",
    "    rmse = np.sqrt(mean_squared_error(actual, pred))\n",
    "    return mae, rmse\n",
    "\n",
    "results = pd.DataFrame([\n",
    "    (\"ARIMA\",)  + eval_forecast(fc1),\n",
    "    (\"SARIMA\",) + eval_forecast(fc2),\n",
    "    (\"Prophet\",)+ eval_forecast(fc3),\n",
    "], columns=[\"Model\",\"MAE\",\"RMSE\"])\n",
    "\n",
    "display(results)"
   ]
  },
  {
   "cell_type": "markdown",
   "id": "9389a0da-9465-4038-b2c9-3ed0bf612101",
   "metadata": {},
   "source": [
    "The SARIMA(1,1,1)(1,1,1,7) model achieved the lowest MAE (2.25 M) and RMSE (2.48 M), outperforming both the non‑seasonal ARIMA by several orders of magnitude and the Prophet model by about 40 % in MAE. Prophet, with its built‑in changepoint detection and weekly seasonality, still captured much of the pattern (MAE ≈ 3.85 M) but could not match the precision of the bespoke SARIMA fit. The plain ARIMA model, lacking explicit seasonality, underfit the data, leading to extremely large forecast errors."
   ]
  },
  {
   "cell_type": "code",
   "execution_count": 76,
   "id": "7490326a-a829-458e-821a-f99b60890bd4",
   "metadata": {},
   "outputs": [
    {
     "data": {
      "image/png": "[encoded data removed]",
      "text/plain": [
       "<Figure size 768x576 with 1 Axes>"
      ]
     },
     "metadata": {},
     "output_type": "display_data"
    },
    {
     "data": {
      "image/png": "[encoded data removed]",
      "text/plain": [
       "<Figure size 768x576 with 1 Axes>"
      ]
     },
     "metadata": {},
     "output_type": "display_data"
    },
    {
     "name": "stdout",
     "output_type": "stream",
     "text": [
      "      lb_stat  lb_pvalue\n",
      "10  18.766336   0.043333\n",
      "20  26.796388   0.141090\n"
     ]
    },
    {
     "data": {
      "image/png": "[encoded data removed]",
      "text/plain": [
       "<Figure size 720x480 with 1 Axes>"
      ]
     },
     "metadata": {},
     "output_type": "display_data"
    }
   ],
   "source": [
    "resid = sarima.resid\n",
    "\n",
    "plot_acf(resid, lags=30); plt.show()\n",
    "plot_pacf(resid, lags=30); plt.show()\n",
    "print(acorr_ljungbox(resid, lags=[10,20], return_df=True))\n",
    "\n",
    "# Combined metrics bar chart\n",
    "metrics = results.set_index('Model')\n",
    "metrics[['MAE','RMSE']].plot(kind='bar', logy=True, figsize=(6,4))\n",
    "plt.title('Error comparison (log scale)')\n",
    "plt.tight_layout()\n",
    "plt.show()"
   ]
  }
 ],
 "metadata": {
  "kernelspec": {
   "display_name": "COVID 19 Time Series (venv)",
   "language": "python",
   "name": "covid19-ts-venv"
  },
  "language_info": {
   "codemirror_mode": {
    "name": "ipython",
    "version": 3
   },
   "file_extension": ".py",
   "mimetype": "text/x-python",
   "name": "python",
   "nbconvert_exporter": "python",
   "pygments_lexer": "ipython3",
   "version": "3.11.9"
  }
 },
 "nbformat": 4,
 "nbformat_minor": 5
}
